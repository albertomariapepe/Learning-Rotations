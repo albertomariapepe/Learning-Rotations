{
  "nbformat": 4,
  "nbformat_minor": 0,
  "metadata": {
    "colab": {
      "name": "LearningRotations.ipynb",
      "provenance": [],
      "collapsed_sections": [],
      "authorship_tag": "ABX9TyNs9cQSjv75WQPLopq8z5+m",
      "include_colab_link": true
    },
    "kernelspec": {
      "name": "python3",
      "display_name": "Python 3"
    },
    "language_info": {
      "name": "python"
    },
    "accelerator": "GPU"
  },
  "cells": [
    {
      "cell_type": "markdown",
      "metadata": {
        "id": "view-in-github",
        "colab_type": "text"
      },
      "source": [
        "<a href=\"https://colab.research.google.com/github/albertomariapepe/Learning-Rotations/blob/main/LearningRotations.ipynb\" target=\"_parent\"><img src=\"https://colab.research.google.com/assets/colab-badge.svg\" alt=\"Open In Colab\"/></a>"
      ]
    },
    {
      "cell_type": "code",
      "metadata": {
        "id": "525_Em9E0nxc",
        "colab": {
          "base_uri": "https://localhost:8080/"
        },
        "outputId": "6794c0c5-4924-423d-c077-79ff22005750"
      },
      "source": [
        "!pip install git+https://github.com/pygae/clifford.git@master"
      ],
      "execution_count": null,
      "outputs": [
        {
          "output_type": "stream",
          "text": [
            "Collecting git+https://github.com/pygae/clifford.git@master\n",
            "  Cloning https://github.com/pygae/clifford.git (to revision master) to /tmp/pip-req-build-z2rdw9c0\n",
            "  Running command git clone -q https://github.com/pygae/clifford.git /tmp/pip-req-build-z2rdw9c0\n",
            "Requirement already satisfied: numpy>=1.17 in /usr/local/lib/python3.7/dist-packages (from clifford==1.4.0.dev0) (1.19.5)\n",
            "Requirement already satisfied: scipy in /usr/local/lib/python3.7/dist-packages (from clifford==1.4.0.dev0) (1.4.1)\n",
            "Requirement already satisfied: numba>0.46 in /usr/local/lib/python3.7/dist-packages (from clifford==1.4.0.dev0) (0.51.2)\n",
            "Requirement already satisfied: h5py in /usr/local/lib/python3.7/dist-packages (from clifford==1.4.0.dev0) (3.1.0)\n",
            "Collecting sparse\n",
            "\u001b[?25l  Downloading https://files.pythonhosted.org/packages/46/20/c409a0d0ea7623a936080e0038eb77a02e62629a07944706c26f24ebcbb8/sparse-0.12.0-py2.py3-none-any.whl (76kB)\n",
            "\u001b[K     |████████████████████████████████| 81kB 10.6MB/s \n",
            "\u001b[?25hRequirement already satisfied: llvmlite<0.35,>=0.34.0.dev0 in /usr/local/lib/python3.7/dist-packages (from numba>0.46->clifford==1.4.0.dev0) (0.34.0)\n",
            "Requirement already satisfied: setuptools in /usr/local/lib/python3.7/dist-packages (from numba>0.46->clifford==1.4.0.dev0) (57.0.0)\n",
            "Requirement already satisfied: cached-property; python_version < \"3.8\" in /usr/local/lib/python3.7/dist-packages (from h5py->clifford==1.4.0.dev0) (1.5.2)\n",
            "Building wheels for collected packages: clifford\n",
            "  Building wheel for clifford (setup.py) ... \u001b[?25l\u001b[?25hdone\n",
            "  Created wheel for clifford: filename=clifford-1.4.0.dev0-cp37-none-any.whl size=156870 sha256=339adeb5b448e94b3ae288c49c862e5c27ea4f3a87e5478d46b6ac87d5ab3f93\n",
            "  Stored in directory: /tmp/pip-ephem-wheel-cache-a7gndwj_/wheels/81/d0/f1/6422c3ef192b296a0055bcf7257d582555aaad0e9b8e810689\n",
            "Successfully built clifford\n",
            "Installing collected packages: sparse, clifford\n",
            "Successfully installed clifford-1.4.0.dev0 sparse-0.12.0\n"
          ],
          "name": "stdout"
        }
      ]
    },
    {
      "cell_type": "code",
      "metadata": {
        "id": "NHCD47lEXWMy"
      },
      "source": [
        "!pip install tensorflow_graphics"
      ],
      "execution_count": null,
      "outputs": []
    },
    {
      "cell_type": "code",
      "metadata": {
        "colab": {
          "base_uri": "https://localhost:8080/",
          "height": 939
        },
        "id": "3aVTpc0S_6hG",
        "outputId": "c882e596-a483-4607-ec16-150675f34f54"
      },
      "source": [
        "from scipy.spatial.transform import Rotation as R\n",
        "import numpy as np\n",
        "from clifford.g3c import *\n",
        "from clifford.tools.g3c import *\n",
        "from clifford.tools.g3c.rotor_parameterisation import *\n",
        "from tensorflow.keras.layers import Input, Dense, LeakyReLU\n",
        "from keras import backend as K\n",
        "from sklearn.model_selection import train_test_split\n",
        "from math import acos\n",
        "import tensorflow as tf\n",
        "from matplotlib import pyplot as plt\n",
        "import keras\n",
        "from math import e, pi\n",
        "import tensorflow_graphics as tfg\n",
        "import tensorflow_graphics.geometry.transformation as tfg_transformation\n",
        "\n",
        "\n",
        "#GENERATING THE RANDOM DATASET\n",
        "tot = int(1e5)\n",
        "i = 0\n",
        "\n",
        "\n",
        "#r = []\n",
        "#ee = []\n",
        "#a = []\n",
        "#q = []\n",
        "#b = []\n",
        "#c = []\n",
        "'''\n",
        "for i in range(0,tot):\n",
        "    r = np.append(r, R.random(random_state = i).as_matrix())\n",
        "    #ee = np.append(ee, R.random(random_state = i).as_euler('zxy'))\n",
        "    #a = np.append(a, R.random(random_state = i).as_rotvec())\n",
        "    #q = np.append(q, R.random(random_state = i).as_quat())\n",
        "\n",
        "    Q = R.random(random_state = i).as_quat()\n",
        "    #C = (Q - 1)/(Q+1)\n",
        "    #print(C)\n",
        "    #c = np.append(c, C/np.linalg.norm(C))\n",
        "    Rot = Q[0] + Q[2]*e13 +Q[2]*e23 + Q[3]*e12\n",
        "    B = -2*general_logarithm(Rot)\n",
        "    #b = np.append(b, [B[6], B[7], B[10]])\n",
        "'''\n",
        "\n",
        "#np.save('R.npy', r)\n",
        "#np.save('E.npy', ee)\n",
        "#np.save('A.npy', a)\n",
        "#np.save('Q.npy', q)\n",
        "#np.save('C.npy', c)\n",
        "\n",
        "\n",
        "\n",
        "\n",
        "r = np.load('R.npy')\n",
        "a = np.load('A.npy')\n",
        "ee = np.load('E.npy')\n",
        "q = np.load('Q.npy')\n",
        "b = np.load('B.npy')\n",
        "\n",
        "\n",
        "r = np.reshape(r, [tot, 9])   \n",
        "ee = np.reshape(ee, [tot, 3])\n",
        "a = np.reshape(a, [tot, 3])\n",
        "q = np.reshape(q, [tot, 4])\n",
        "b = np.reshape(b, [tot, 3])\n",
        "#c = np.reshape(c, [tot, 4])\n",
        "\n",
        "#Train - Test Split\n",
        "r_train, r_test = train_test_split(r, test_size=0.33, shuffle=False)\n",
        "e_train, e_test = train_test_split(ee, test_size=0.33, shuffle=False)\n",
        "a_train, a_test = train_test_split(a, test_size=0.33, shuffle=False)\n",
        "q_train, q_test = train_test_split(q, test_size=0.33, shuffle=False)\n",
        "b_train, b_te4st = train_test_split(b, test_size=0.33, shuffle=False)\n",
        "#c_train, c_test = train_test_split(c, test_size=0.33, shuffle=False)\n",
        "\n",
        "\n",
        "TRAIN = q_train\n",
        "TEST = q_test\n",
        "out_size = 4 \n",
        "\n",
        "nb_epoch = 100\n",
        "batch_size = 64\n",
        "\n",
        "'''\n",
        "def l2_loss(y_true, y_pred):\n",
        "    y_true = tfg_transformation.rotation_matrix_3d.from_quaternion(y_true)\n",
        "    y_pred = tfg_transformation.rotation_matrix_3d.from_quaternion(y_pred)\n",
        "    l2 = tf.nn.l2_loss(y_true - y_pred)\n",
        "    return l2\n",
        "'''\n",
        "def l2_loss(y_true, y_pred):\n",
        "\n",
        "    y_true = tfg_transformation.rotation_matrix_3d.from_quaternion(y_true)\n",
        "    y_pred = tfg_transformation.rotation_matrix_3d.from_quaternion(y_pred)\n",
        "\n",
        "    l2 = tf.nn.l2_loss(y_true - y_pred)\n",
        "    return l2\n",
        "\n",
        "\n",
        "\n",
        "\n",
        "r_input = Input(shape=(9))\n",
        "x = Dense(128)(r_input)\n",
        "x = LeakyReLU(alpha=0.2)(x)\n",
        "x = Dense(128)(x)\n",
        "x = LeakyReLU(alpha=0.2)(x)\n",
        "x = Dense(128)(x)\n",
        "x = LeakyReLU(alpha=0.2)(x)\n",
        "out = Dense(out_size)(x)\n",
        "print(out)\n",
        "\n",
        "\n",
        "model = keras.Model(r_input,  out)\n",
        "model.summary()\n",
        "model.compile(loss=l2_loss, optimizer=\"adam\")\n",
        "#es_callback = keras.callbacks.EarlyStopping(monitor='val_loss', patience=3)\n",
        "model_train = model.fit(x = r_train, y = TRAIN, \n",
        "                        validation_split=0.3,\n",
        "                        epochs=nb_epoch,\n",
        "                        verbose=1,\n",
        "                        batch_size=batch_size)\n",
        "\n",
        "\n",
        "\n",
        "loss = model_train.history['loss']\n",
        "val_loss = model_train.history['val_loss']\n",
        "epochs = range(nb_epoch)\n",
        "plt.figure()\n",
        "plt.plot(epochs, loss, 'b-', label='Training loss')\n",
        "plt.plot(epochs, val_loss, 'r-', label='Validation loss')\n",
        "plt.title('Training loss')\n",
        "plt.legend()\n",
        "plt.show()\n",
        "\n",
        "predicted = model.predict(r_test)\n",
        "\n",
        "M = []\n",
        "Langle = []\n",
        "\n",
        "for i in range(0,int(tot*0.33)):\n",
        "    \n",
        "    #C_predicted = (1 + predicted[i])/(1 - predicted[i])\n",
        "    r_predicted = R.from_quat(predicted[i])\n",
        "    y_pred = r_predicted.as_matrix()\n",
        "\n",
        "    #C_TEST = (1 + TEST[i])/(1 - TEST[i])\n",
        "    r_real = R.from_quat(C_TEST[i])\n",
        "    y_real = r_real.as_matrix()\n",
        "    \n",
        "    M= np.matmul(y_real, np.linalg.inv(y_pred))\n",
        "    cosine = (M[0,0] + M[1,1] + M[2,2] - 1)/2\n",
        "    if cosine > 1:\n",
        "        cosine = 1\n",
        "    Langle = np.append(Langle, acos(cosine))\n",
        "\n",
        "'''\n",
        "from math import e\n",
        "\n",
        "for i in range(0,int(tot*0.33)):\n",
        "    B = predicted[i][0]*e12 +predicted[i][1]*e13 + predicted[i][2]*e23\n",
        "    Rot = e**(-B/2)\n",
        "    pred = [Rot[0], Rot[10], Rot[6], Rot[7]]\n",
        "    r_predicted = R.from_quat(pred)\n",
        "    y_pred = r_predicted.as_matrix()\n",
        "\n",
        "    B = TEST[i][0]*e12 +TEST[i][1]*e13 + TEST[i][2]*e23\n",
        "    Rot = e**(-B/2)\n",
        "    real = [Rot[0], Rot[10], Rot[6], Rot[7]]\n",
        "    r_real = R.from_quat(real)\n",
        "    y_real = r_real.as_matrix()\n",
        "    \n",
        "    M= np.matmul(y_real, np.linalg.inv(y_pred))\n",
        "    cosine = (M[0,0] + M[1,1] + M[2,2] - 1)/2\n",
        "    if cosine > 1:\n",
        "        cosine = 1\n",
        "    Langle = np.append(Langle, acos(cosine))\n",
        "'''\n",
        "\n",
        "print(np.max(Langle)*180/pi)\n",
        "print(np.average(Langle)*180/pi)\n",
        "print(np.std(Langle)*180/pi)\n",
        "\n",
        "#np.save('B_loss.npy', loss)\n",
        "#np.save('B_val_loss.npy', val_loss)\n",
        "#np.save('B_langle.npy', Langle)\n",
        "\n"
      ],
      "execution_count": null,
      "outputs": [
        {
          "output_type": "stream",
          "text": [
            "KerasTensor(type_spec=TensorSpec(shape=(None, 3), dtype=tf.float32, name=None), name='dense_7/BiasAdd:0', description=\"created by layer 'dense_7'\")\n",
            "Model: \"model_1\"\n",
            "_________________________________________________________________\n",
            "Layer (type)                 Output Shape              Param #   \n",
            "=================================================================\n",
            "Total params: 34,691\n",
            "Trainable params: 34,691\n",
            "Non-trainable params: 0\n",
            "_________________________________________________________________\n",
            "Epoch 1/100\n"
          ],
          "name": "stdout"
        },
        {
          "output_type": "error",
          "ename": "ValueError",
          "evalue": "ignored",
          "traceback": [
            "\u001b[0;31m---------------------------------------------------------------------------\u001b[0m",
            "\u001b[0;31mValueError\u001b[0m                                Traceback (most recent call last)",
            "\u001b[0;32m<ipython-input-5-bb67dbe04486>\u001b[0m in \u001b[0;36m<module>\u001b[0;34m()\u001b[0m\n\u001b[1;32m    122\u001b[0m                         \u001b[0mepochs\u001b[0m\u001b[0;34m=\u001b[0m\u001b[0mnb_epoch\u001b[0m\u001b[0;34m,\u001b[0m\u001b[0;34m\u001b[0m\u001b[0;34m\u001b[0m\u001b[0m\n\u001b[1;32m    123\u001b[0m                         \u001b[0mverbose\u001b[0m\u001b[0;34m=\u001b[0m\u001b[0;36m1\u001b[0m\u001b[0;34m,\u001b[0m\u001b[0;34m\u001b[0m\u001b[0;34m\u001b[0m\u001b[0m\n\u001b[0;32m--> 124\u001b[0;31m                         batch_size=batch_size)\n\u001b[0m\u001b[1;32m    125\u001b[0m \u001b[0;34m\u001b[0m\u001b[0m\n\u001b[1;32m    126\u001b[0m \u001b[0;34m\u001b[0m\u001b[0m\n",
            "\u001b[0;32m/usr/local/lib/python3.7/dist-packages/keras/engine/training.py\u001b[0m in \u001b[0;36mfit\u001b[0;34m(self, x, y, batch_size, epochs, verbose, callbacks, validation_split, validation_data, shuffle, class_weight, sample_weight, initial_epoch, steps_per_epoch, validation_steps, validation_batch_size, validation_freq, max_queue_size, workers, use_multiprocessing)\u001b[0m\n\u001b[1;32m   1156\u001b[0m                 _r=1):\n\u001b[1;32m   1157\u001b[0m               \u001b[0mcallbacks\u001b[0m\u001b[0;34m.\u001b[0m\u001b[0mon_train_batch_begin\u001b[0m\u001b[0;34m(\u001b[0m\u001b[0mstep\u001b[0m\u001b[0;34m)\u001b[0m\u001b[0;34m\u001b[0m\u001b[0;34m\u001b[0m\u001b[0m\n\u001b[0;32m-> 1158\u001b[0;31m               \u001b[0mtmp_logs\u001b[0m \u001b[0;34m=\u001b[0m \u001b[0mself\u001b[0m\u001b[0;34m.\u001b[0m\u001b[0mtrain_function\u001b[0m\u001b[0;34m(\u001b[0m\u001b[0miterator\u001b[0m\u001b[0;34m)\u001b[0m\u001b[0;34m\u001b[0m\u001b[0;34m\u001b[0m\u001b[0m\n\u001b[0m\u001b[1;32m   1159\u001b[0m               \u001b[0;32mif\u001b[0m \u001b[0mdata_handler\u001b[0m\u001b[0;34m.\u001b[0m\u001b[0mshould_sync\u001b[0m\u001b[0;34m:\u001b[0m\u001b[0;34m\u001b[0m\u001b[0;34m\u001b[0m\u001b[0m\n\u001b[1;32m   1160\u001b[0m                 \u001b[0mcontext\u001b[0m\u001b[0;34m.\u001b[0m\u001b[0masync_wait\u001b[0m\u001b[0;34m(\u001b[0m\u001b[0;34m)\u001b[0m\u001b[0;34m\u001b[0m\u001b[0;34m\u001b[0m\u001b[0m\n",
            "\u001b[0;32m/usr/local/lib/python3.7/dist-packages/tensorflow/python/eager/def_function.py\u001b[0m in \u001b[0;36m__call__\u001b[0;34m(self, *args, **kwds)\u001b[0m\n\u001b[1;32m    887\u001b[0m \u001b[0;34m\u001b[0m\u001b[0m\n\u001b[1;32m    888\u001b[0m       \u001b[0;32mwith\u001b[0m \u001b[0mOptionalXlaContext\u001b[0m\u001b[0;34m(\u001b[0m\u001b[0mself\u001b[0m\u001b[0;34m.\u001b[0m\u001b[0m_jit_compile\u001b[0m\u001b[0;34m)\u001b[0m\u001b[0;34m:\u001b[0m\u001b[0;34m\u001b[0m\u001b[0;34m\u001b[0m\u001b[0m\n\u001b[0;32m--> 889\u001b[0;31m         \u001b[0mresult\u001b[0m \u001b[0;34m=\u001b[0m \u001b[0mself\u001b[0m\u001b[0;34m.\u001b[0m\u001b[0m_call\u001b[0m\u001b[0;34m(\u001b[0m\u001b[0;34m*\u001b[0m\u001b[0margs\u001b[0m\u001b[0;34m,\u001b[0m \u001b[0;34m**\u001b[0m\u001b[0mkwds\u001b[0m\u001b[0;34m)\u001b[0m\u001b[0;34m\u001b[0m\u001b[0;34m\u001b[0m\u001b[0m\n\u001b[0m\u001b[1;32m    890\u001b[0m \u001b[0;34m\u001b[0m\u001b[0m\n\u001b[1;32m    891\u001b[0m       \u001b[0mnew_tracing_count\u001b[0m \u001b[0;34m=\u001b[0m \u001b[0mself\u001b[0m\u001b[0;34m.\u001b[0m\u001b[0mexperimental_get_tracing_count\u001b[0m\u001b[0;34m(\u001b[0m\u001b[0;34m)\u001b[0m\u001b[0;34m\u001b[0m\u001b[0;34m\u001b[0m\u001b[0m\n",
            "\u001b[0;32m/usr/local/lib/python3.7/dist-packages/tensorflow/python/eager/def_function.py\u001b[0m in \u001b[0;36m_call\u001b[0;34m(self, *args, **kwds)\u001b[0m\n\u001b[1;32m    931\u001b[0m       \u001b[0;31m# This is the first call of __call__, so we have to initialize.\u001b[0m\u001b[0;34m\u001b[0m\u001b[0;34m\u001b[0m\u001b[0;34m\u001b[0m\u001b[0m\n\u001b[1;32m    932\u001b[0m       \u001b[0minitializers\u001b[0m \u001b[0;34m=\u001b[0m \u001b[0;34m[\u001b[0m\u001b[0;34m]\u001b[0m\u001b[0;34m\u001b[0m\u001b[0;34m\u001b[0m\u001b[0m\n\u001b[0;32m--> 933\u001b[0;31m       \u001b[0mself\u001b[0m\u001b[0;34m.\u001b[0m\u001b[0m_initialize\u001b[0m\u001b[0;34m(\u001b[0m\u001b[0margs\u001b[0m\u001b[0;34m,\u001b[0m \u001b[0mkwds\u001b[0m\u001b[0;34m,\u001b[0m \u001b[0madd_initializers_to\u001b[0m\u001b[0;34m=\u001b[0m\u001b[0minitializers\u001b[0m\u001b[0;34m)\u001b[0m\u001b[0;34m\u001b[0m\u001b[0;34m\u001b[0m\u001b[0m\n\u001b[0m\u001b[1;32m    934\u001b[0m     \u001b[0;32mfinally\u001b[0m\u001b[0;34m:\u001b[0m\u001b[0;34m\u001b[0m\u001b[0;34m\u001b[0m\u001b[0m\n\u001b[1;32m    935\u001b[0m       \u001b[0;31m# At this point we know that the initialization is complete (or less\u001b[0m\u001b[0;34m\u001b[0m\u001b[0;34m\u001b[0m\u001b[0;34m\u001b[0m\u001b[0m\n",
            "\u001b[0;32m/usr/local/lib/python3.7/dist-packages/tensorflow/python/eager/def_function.py\u001b[0m in \u001b[0;36m_initialize\u001b[0;34m(self, args, kwds, add_initializers_to)\u001b[0m\n\u001b[1;32m    762\u001b[0m     self._concrete_stateful_fn = (\n\u001b[1;32m    763\u001b[0m         self._stateful_fn._get_concrete_function_internal_garbage_collected(  # pylint: disable=protected-access\n\u001b[0;32m--> 764\u001b[0;31m             *args, **kwds))\n\u001b[0m\u001b[1;32m    765\u001b[0m \u001b[0;34m\u001b[0m\u001b[0m\n\u001b[1;32m    766\u001b[0m     \u001b[0;32mdef\u001b[0m \u001b[0minvalid_creator_scope\u001b[0m\u001b[0;34m(\u001b[0m\u001b[0;34m*\u001b[0m\u001b[0munused_args\u001b[0m\u001b[0;34m,\u001b[0m \u001b[0;34m**\u001b[0m\u001b[0munused_kwds\u001b[0m\u001b[0;34m)\u001b[0m\u001b[0;34m:\u001b[0m\u001b[0;34m\u001b[0m\u001b[0;34m\u001b[0m\u001b[0m\n",
            "\u001b[0;32m/usr/local/lib/python3.7/dist-packages/tensorflow/python/eager/function.py\u001b[0m in \u001b[0;36m_get_concrete_function_internal_garbage_collected\u001b[0;34m(self, *args, **kwargs)\u001b[0m\n\u001b[1;32m   3048\u001b[0m       \u001b[0margs\u001b[0m\u001b[0;34m,\u001b[0m \u001b[0mkwargs\u001b[0m \u001b[0;34m=\u001b[0m \u001b[0;32mNone\u001b[0m\u001b[0;34m,\u001b[0m \u001b[0;32mNone\u001b[0m\u001b[0;34m\u001b[0m\u001b[0;34m\u001b[0m\u001b[0m\n\u001b[1;32m   3049\u001b[0m     \u001b[0;32mwith\u001b[0m \u001b[0mself\u001b[0m\u001b[0;34m.\u001b[0m\u001b[0m_lock\u001b[0m\u001b[0;34m:\u001b[0m\u001b[0;34m\u001b[0m\u001b[0;34m\u001b[0m\u001b[0m\n\u001b[0;32m-> 3050\u001b[0;31m       \u001b[0mgraph_function\u001b[0m\u001b[0;34m,\u001b[0m \u001b[0m_\u001b[0m \u001b[0;34m=\u001b[0m \u001b[0mself\u001b[0m\u001b[0;34m.\u001b[0m\u001b[0m_maybe_define_function\u001b[0m\u001b[0;34m(\u001b[0m\u001b[0margs\u001b[0m\u001b[0;34m,\u001b[0m \u001b[0mkwargs\u001b[0m\u001b[0;34m)\u001b[0m\u001b[0;34m\u001b[0m\u001b[0;34m\u001b[0m\u001b[0m\n\u001b[0m\u001b[1;32m   3051\u001b[0m     \u001b[0;32mreturn\u001b[0m \u001b[0mgraph_function\u001b[0m\u001b[0;34m\u001b[0m\u001b[0;34m\u001b[0m\u001b[0m\n\u001b[1;32m   3052\u001b[0m \u001b[0;34m\u001b[0m\u001b[0m\n",
            "\u001b[0;32m/usr/local/lib/python3.7/dist-packages/tensorflow/python/eager/function.py\u001b[0m in \u001b[0;36m_maybe_define_function\u001b[0;34m(self, args, kwargs)\u001b[0m\n\u001b[1;32m   3442\u001b[0m \u001b[0;34m\u001b[0m\u001b[0m\n\u001b[1;32m   3443\u001b[0m           \u001b[0mself\u001b[0m\u001b[0;34m.\u001b[0m\u001b[0m_function_cache\u001b[0m\u001b[0;34m.\u001b[0m\u001b[0mmissed\u001b[0m\u001b[0;34m.\u001b[0m\u001b[0madd\u001b[0m\u001b[0;34m(\u001b[0m\u001b[0mcall_context_key\u001b[0m\u001b[0;34m)\u001b[0m\u001b[0;34m\u001b[0m\u001b[0;34m\u001b[0m\u001b[0m\n\u001b[0;32m-> 3444\u001b[0;31m           \u001b[0mgraph_function\u001b[0m \u001b[0;34m=\u001b[0m \u001b[0mself\u001b[0m\u001b[0;34m.\u001b[0m\u001b[0m_create_graph_function\u001b[0m\u001b[0;34m(\u001b[0m\u001b[0margs\u001b[0m\u001b[0;34m,\u001b[0m \u001b[0mkwargs\u001b[0m\u001b[0;34m)\u001b[0m\u001b[0;34m\u001b[0m\u001b[0;34m\u001b[0m\u001b[0m\n\u001b[0m\u001b[1;32m   3445\u001b[0m           \u001b[0mself\u001b[0m\u001b[0;34m.\u001b[0m\u001b[0m_function_cache\u001b[0m\u001b[0;34m.\u001b[0m\u001b[0mprimary\u001b[0m\u001b[0;34m[\u001b[0m\u001b[0mcache_key\u001b[0m\u001b[0;34m]\u001b[0m \u001b[0;34m=\u001b[0m \u001b[0mgraph_function\u001b[0m\u001b[0;34m\u001b[0m\u001b[0;34m\u001b[0m\u001b[0m\n\u001b[1;32m   3446\u001b[0m \u001b[0;34m\u001b[0m\u001b[0m\n",
            "\u001b[0;32m/usr/local/lib/python3.7/dist-packages/tensorflow/python/eager/function.py\u001b[0m in \u001b[0;36m_create_graph_function\u001b[0;34m(self, args, kwargs, override_flat_arg_shapes)\u001b[0m\n\u001b[1;32m   3287\u001b[0m             \u001b[0marg_names\u001b[0m\u001b[0;34m=\u001b[0m\u001b[0marg_names\u001b[0m\u001b[0;34m,\u001b[0m\u001b[0;34m\u001b[0m\u001b[0;34m\u001b[0m\u001b[0m\n\u001b[1;32m   3288\u001b[0m             \u001b[0moverride_flat_arg_shapes\u001b[0m\u001b[0;34m=\u001b[0m\u001b[0moverride_flat_arg_shapes\u001b[0m\u001b[0;34m,\u001b[0m\u001b[0;34m\u001b[0m\u001b[0;34m\u001b[0m\u001b[0m\n\u001b[0;32m-> 3289\u001b[0;31m             capture_by_value=self._capture_by_value),\n\u001b[0m\u001b[1;32m   3290\u001b[0m         \u001b[0mself\u001b[0m\u001b[0;34m.\u001b[0m\u001b[0m_function_attributes\u001b[0m\u001b[0;34m,\u001b[0m\u001b[0;34m\u001b[0m\u001b[0;34m\u001b[0m\u001b[0m\n\u001b[1;32m   3291\u001b[0m         \u001b[0mfunction_spec\u001b[0m\u001b[0;34m=\u001b[0m\u001b[0mself\u001b[0m\u001b[0;34m.\u001b[0m\u001b[0mfunction_spec\u001b[0m\u001b[0;34m,\u001b[0m\u001b[0;34m\u001b[0m\u001b[0;34m\u001b[0m\u001b[0m\n",
            "\u001b[0;32m/usr/local/lib/python3.7/dist-packages/tensorflow/python/framework/func_graph.py\u001b[0m in \u001b[0;36mfunc_graph_from_py_func\u001b[0;34m(name, python_func, args, kwargs, signature, func_graph, autograph, autograph_options, add_control_dependencies, arg_names, op_return_value, collections, capture_by_value, override_flat_arg_shapes)\u001b[0m\n\u001b[1;32m    997\u001b[0m         \u001b[0m_\u001b[0m\u001b[0;34m,\u001b[0m \u001b[0moriginal_func\u001b[0m \u001b[0;34m=\u001b[0m \u001b[0mtf_decorator\u001b[0m\u001b[0;34m.\u001b[0m\u001b[0munwrap\u001b[0m\u001b[0;34m(\u001b[0m\u001b[0mpython_func\u001b[0m\u001b[0;34m)\u001b[0m\u001b[0;34m\u001b[0m\u001b[0;34m\u001b[0m\u001b[0m\n\u001b[1;32m    998\u001b[0m \u001b[0;34m\u001b[0m\u001b[0m\n\u001b[0;32m--> 999\u001b[0;31m       \u001b[0mfunc_outputs\u001b[0m \u001b[0;34m=\u001b[0m \u001b[0mpython_func\u001b[0m\u001b[0;34m(\u001b[0m\u001b[0;34m*\u001b[0m\u001b[0mfunc_args\u001b[0m\u001b[0;34m,\u001b[0m \u001b[0;34m**\u001b[0m\u001b[0mfunc_kwargs\u001b[0m\u001b[0;34m)\u001b[0m\u001b[0;34m\u001b[0m\u001b[0;34m\u001b[0m\u001b[0m\n\u001b[0m\u001b[1;32m   1000\u001b[0m \u001b[0;34m\u001b[0m\u001b[0m\n\u001b[1;32m   1001\u001b[0m       \u001b[0;31m# invariant: `func_outputs` contains only Tensors, CompositeTensors,\u001b[0m\u001b[0;34m\u001b[0m\u001b[0;34m\u001b[0m\u001b[0;34m\u001b[0m\u001b[0m\n",
            "\u001b[0;32m/usr/local/lib/python3.7/dist-packages/tensorflow/python/eager/def_function.py\u001b[0m in \u001b[0;36mwrapped_fn\u001b[0;34m(*args, **kwds)\u001b[0m\n\u001b[1;32m    670\u001b[0m         \u001b[0;31m# the function a weak reference to itself to avoid a reference cycle.\u001b[0m\u001b[0;34m\u001b[0m\u001b[0;34m\u001b[0m\u001b[0;34m\u001b[0m\u001b[0m\n\u001b[1;32m    671\u001b[0m         \u001b[0;32mwith\u001b[0m \u001b[0mOptionalXlaContext\u001b[0m\u001b[0;34m(\u001b[0m\u001b[0mcompile_with_xla\u001b[0m\u001b[0;34m)\u001b[0m\u001b[0;34m:\u001b[0m\u001b[0;34m\u001b[0m\u001b[0;34m\u001b[0m\u001b[0m\n\u001b[0;32m--> 672\u001b[0;31m           \u001b[0mout\u001b[0m \u001b[0;34m=\u001b[0m \u001b[0mweak_wrapped_fn\u001b[0m\u001b[0;34m(\u001b[0m\u001b[0;34m)\u001b[0m\u001b[0;34m.\u001b[0m\u001b[0m__wrapped__\u001b[0m\u001b[0;34m(\u001b[0m\u001b[0;34m*\u001b[0m\u001b[0margs\u001b[0m\u001b[0;34m,\u001b[0m \u001b[0;34m**\u001b[0m\u001b[0mkwds\u001b[0m\u001b[0;34m)\u001b[0m\u001b[0;34m\u001b[0m\u001b[0;34m\u001b[0m\u001b[0m\n\u001b[0m\u001b[1;32m    673\u001b[0m         \u001b[0;32mreturn\u001b[0m \u001b[0mout\u001b[0m\u001b[0;34m\u001b[0m\u001b[0;34m\u001b[0m\u001b[0m\n\u001b[1;32m    674\u001b[0m \u001b[0;34m\u001b[0m\u001b[0m\n",
            "\u001b[0;32m/usr/local/lib/python3.7/dist-packages/tensorflow/python/framework/func_graph.py\u001b[0m in \u001b[0;36mwrapper\u001b[0;34m(*args, **kwargs)\u001b[0m\n\u001b[1;32m    984\u001b[0m           \u001b[0;32mexcept\u001b[0m \u001b[0mException\u001b[0m \u001b[0;32mas\u001b[0m \u001b[0me\u001b[0m\u001b[0;34m:\u001b[0m  \u001b[0;31m# pylint:disable=broad-except\u001b[0m\u001b[0;34m\u001b[0m\u001b[0;34m\u001b[0m\u001b[0m\n\u001b[1;32m    985\u001b[0m             \u001b[0;32mif\u001b[0m \u001b[0mhasattr\u001b[0m\u001b[0;34m(\u001b[0m\u001b[0me\u001b[0m\u001b[0;34m,\u001b[0m \u001b[0;34m\"ag_error_metadata\"\u001b[0m\u001b[0;34m)\u001b[0m\u001b[0;34m:\u001b[0m\u001b[0;34m\u001b[0m\u001b[0;34m\u001b[0m\u001b[0m\n\u001b[0;32m--> 986\u001b[0;31m               \u001b[0;32mraise\u001b[0m \u001b[0me\u001b[0m\u001b[0;34m.\u001b[0m\u001b[0mag_error_metadata\u001b[0m\u001b[0;34m.\u001b[0m\u001b[0mto_exception\u001b[0m\u001b[0;34m(\u001b[0m\u001b[0me\u001b[0m\u001b[0;34m)\u001b[0m\u001b[0;34m\u001b[0m\u001b[0;34m\u001b[0m\u001b[0m\n\u001b[0m\u001b[1;32m    987\u001b[0m             \u001b[0;32melse\u001b[0m\u001b[0;34m:\u001b[0m\u001b[0;34m\u001b[0m\u001b[0;34m\u001b[0m\u001b[0m\n\u001b[1;32m    988\u001b[0m               \u001b[0;32mraise\u001b[0m\u001b[0;34m\u001b[0m\u001b[0;34m\u001b[0m\u001b[0m\n",
            "\u001b[0;31mValueError\u001b[0m: in user code:\n\n    /usr/local/lib/python3.7/dist-packages/keras/engine/training.py:830 train_function  *\n        return step_function(self, iterator)\n    /usr/local/lib/python3.7/dist-packages/keras/engine/training.py:813 run_step  *\n        outputs = model.train_step(data)\n    /usr/local/lib/python3.7/dist-packages/keras/engine/training.py:771 train_step  *\n        loss = self.compiled_loss(\n    /usr/local/lib/python3.7/dist-packages/keras/engine/compile_utils.py:201 __call__  *\n        loss_value = loss_obj(y_t, y_p, sample_weight=sw)\n    /usr/local/lib/python3.7/dist-packages/keras/losses.py:142 __call__  *\n        losses = call_fn(y_true, y_pred)\n    /usr/local/lib/python3.7/dist-packages/keras/losses.py:246 call  *\n        return ag_fn(y_true, y_pred, **self._fn_kwargs)\n    <ipython-input-5-bb67dbe04486>:96 l2_loss_bi  *\n        y_true = tfg_transformation.rotation_matrix_3d.from_quaternion(y_true)\n    /usr/local/lib/python3.7/dist-packages/tensorflow_graphics/geometry/transformation/rotation_matrix_3d.py:270 from_quaternion  *\n        shape.check_static(\n    /usr/local/lib/python3.7/dist-packages/tensorflow_graphics/util/shape.py:183 _raise_value_error_for_dim  *\n        raise ValueError(\n\n    ValueError: quaternion must have exactly 4 dimensions in axis -1, but it has shape [None, 3]\n"
          ]
        }
      ]
    },
    {
      "cell_type": "code",
      "metadata": {
        "id": "f_Ew-CNZPpuR",
        "colab": {
          "base_uri": "https://localhost:8080/"
        },
        "outputId": "428672a8-f429-4043-954b-f1f5fb449f5d"
      },
      "source": [
        "from math import cos, sin, pi\n",
        "import numpy as np\n",
        "theta = 30*pi/180\n",
        "deltat = 1*pi/180\n",
        "L = 1\n",
        "\n",
        "r = [cos(theta), 0, sin(theta), 0, cos(theta), 0, -sin(theta), 0, 1]\n",
        "r = np.reshape(r, [3, 3])\n",
        "print(r)\n",
        "\n",
        "from scipy.spatial.transform import Rotation as R\n",
        "r_matrix = R.from_matrix(r)\n",
        "q = r_matrix.as_quat()\n",
        "\n",
        "Q = R.from_quat(q)\n",
        "\n",
        "print(q)\n",
        "print('---')\n",
        "#R = Q.as_matrix()\n",
        "#print(R)\n",
        "\n",
        "for L in range(0,10):\n",
        "    rd = [cos(theta+L*deltat), 0, sin(theta+L*deltat), 0, cos(theta+L*deltat), 0, -sin(theta+L*deltat), 0, 1]\n",
        "    rd = np.reshape(rd, [3, 3])\n",
        "    r_matrix = R.from_matrix(rd)\n",
        "    q = r_matrix.as_quat()\n",
        "    print(q)\n"
      ],
      "execution_count": null,
      "outputs": [
        {
          "output_type": "stream",
          "text": [
            "[[ 0.8660254  0.         0.5      ]\n",
            " [ 0.         0.8660254  0.       ]\n",
            " [-0.5        0.         1.       ]]\n",
            "[0.         0.25881905 0.         0.96592583]\n",
            "---\n",
            "[0.         0.25881905 0.         0.96592583]\n",
            "[0.         0.26723838 0.         0.96363045]\n",
            "[0.         0.27563736 0.         0.9612617 ]\n",
            "[0.         0.28401534 0.         0.95881973]\n",
            "[0.         0.2923717  0.         0.95630476]\n",
            "[0.         0.3007058  0.         0.95371695]\n",
            "[0.         0.30901699 0.         0.95105652]\n",
            "[0.         0.31730466 0.         0.94832366]\n",
            "[0.         0.32556815 0.         0.94551858]\n",
            "[0.         0.33380686 0.         0.94264149]\n"
          ],
          "name": "stdout"
        }
      ]
    },
    {
      "cell_type": "code",
      "metadata": {
        "id": "MzO_EQ2NQ4tj"
      },
      "source": [
        "!zip -r /content/ /content\n",
        "\n",
        "from google.colab import files\n",
        "files.download(\"/content/.zip\")"
      ],
      "execution_count": null,
      "outputs": []
    },
    {
      "cell_type": "code",
      "metadata": {
        "colab": {
          "base_uri": "https://localhost:8080/"
        },
        "id": "bFX_pDqu39_2",
        "outputId": "74256868-0c29-4fef-b090-c5aec055fbc2"
      },
      "source": [
        "cos(theta/2)"
      ],
      "execution_count": null,
      "outputs": [
        {
          "output_type": "execute_result",
          "data": {
            "text/plain": [
              "0.9659258262890683"
            ]
          },
          "metadata": {
            "tags": []
          },
          "execution_count": 12
        }
      ]
    }
  ]
}